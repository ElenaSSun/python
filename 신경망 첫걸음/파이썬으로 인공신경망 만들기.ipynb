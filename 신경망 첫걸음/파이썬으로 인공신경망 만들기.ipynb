{
 "cells": [
  {
   "cell_type": "markdown",
   "metadata": {},
   "source": [
    "초기화에서 잊지 말아야 할 것은 학습률이다. 학습률은 새로운 신경망을 만들 때 매우 중요한 매개변수이다."
   ]
  },
  {
   "cell_type": "code",
   "execution_count": 10,
   "metadata": {},
   "outputs": [],
   "source": [
    "# 입력, 은닉, 출력 노드의 수\n",
    "input_nodes = 3\n",
    "hidden_nodes = 3\n",
    "output_nodes = 3\n",
    "\n",
    "# 학습률은 0.3으로 정의\n",
    "learning_rate = 0.3\n",
    "# 신경망의 인스턴스를 생성\n",
    "n = neuralNetwork(input_nodes, hidden_nodes, output_nodes, learning_rate)"
   ]
  },
  {
   "cell_type": "code",
   "execution_count": 4,
   "metadata": {},
   "outputs": [],
   "source": [
    "import numpy"
   ]
  },
  {
   "cell_type": "code",
   "execution_count": 6,
   "metadata": {},
   "outputs": [
    {
     "data": {
      "text/plain": [
       "array([[ 0.29824732, -0.12625581, -0.37976067],\n",
       "       [ 0.03796579, -0.49110959,  0.43078715],\n",
       "       [-0.12589484,  0.03022825, -0.16245155]])"
      ]
     },
     "execution_count": 6,
     "metadata": {},
     "output_type": "execute_result"
    }
   ],
   "source": [
    "numpy.random.rand(3, 3) - 0.5"
   ]
  },
  {
   "cell_type": "markdown",
   "metadata": {},
   "source": [
    "위의 numpy값은 0과 1 사이에서 임의로 선택한 값을 원소로 가지는 행렬을 생성한다.\n",
    "가중치는 양수와 음수 모두 있기 때문에 -0.5를 해서 실질적으로 -0.5 ~ 0.5 사이의 값을 가지도록 한다."
   ]
  },
  {
   "cell_type": "code",
   "execution_count": 15,
   "metadata": {},
   "outputs": [
    {
     "ename": "SyntaxError",
     "evalue": "invalid syntax (<ipython-input-15-0ecf62e5848f>, line 6)",
     "output_type": "error",
     "traceback": [
      "\u001b[1;36m  File \u001b[1;32m\"<ipython-input-15-0ecf62e5848f>\"\u001b[1;36m, line \u001b[1;32m6\u001b[0m\n\u001b[1;33m    self.who = (numpy.random.normal(0.0, pow(self.onodes, -0.5), (self.onodes, self.hnodes))\u001b[0m\n\u001b[1;37m       ^\u001b[0m\n\u001b[1;31mSyntaxError\u001b[0m\u001b[1;31m:\u001b[0m invalid syntax\n"
     ]
    }
   ],
   "source": [
    "# 가중치 행렬 wih와 who\n",
    "# 배열 내 가중치는 w_i_j로 표기. 노드 i에서 다음 계층의 노드 j로 연결됨을 의미\n",
    "# w11 w21\n",
    "# w12 w22 등\n",
    "self.wih = (numpy.random.normal(0.0, pow(self.hnodes, -0.5), (self.hnodes, self.inodes))\n",
    "self.who = (numpy.random.normal(0.0, pow(self.onodes, -0.5), (self.onodes, self.hnodes))"
   ]
  },
  {
   "cell_type": "markdown",
   "metadata": {},
   "source": [
    "query() 함수는 신경망으로 들어오는 입력을 받아 출력을 반환해준다.\n",
    "입력 계층과 은닉 계층 사이의 가중치 행렬은 입력 행렬과 조합되어 은닉 계층으로 들어오는 신호가 된다.\n",
    "\n",
    "이를 계산하는 파이썬 코드는 hidden_inputs = numpy.dot(self.wih, inputs) 이다.\n",
    "\n",
    "입력 계층이나 은닉 계층의 노드의 수가 달라지더라도 코드를 다시 작성할 필요는 없다.\n",
    "\n",
    "시그모이드 함수가 파이썬 라이브러리에 scipy 중 expit()로 정의되어 있다."
   ]
  },
  {
   "cell_type": "code",
   "execution_count": 16,
   "metadata": {},
   "outputs": [],
   "source": [
    "import scipy.special"
   ]
  },
  {
   "cell_type": "markdown",
   "metadata": {},
   "source": [
    "한 번 정의해 두면 puery() 활성화 함수에 변화를 줘야 할 때 초기화 부분에서 한 번만 변경하면 활성화 함수가 사용되는 다른 부분들에서는 코드를 찾아 변경할 필요가 없다."
   ]
  },
  {
   "cell_type": "markdown",
   "metadata": {},
   "source": [
    "활성화 함수로 시그모이드 함수를 이용\n",
    "\n",
    "self.activation_function = lambda x: scipy.special.expit(x)"
   ]
  },
  {
   "cell_type": "markdown",
   "metadata": {},
   "source": [
    "은닉 계층으로 들어오는 신호를 계산 \n",
    "hidden_input = numpy.dot(self.wih, inputs)\n",
    "\n",
    "은닉 계층에서 나가는 신호를 계산\n",
    "hidden_outputs = self.activation_function(hidden_inputs)\n",
    "\n",
    "\n",
    "최종 출력 계층으로 들어오는 신호를 계산\n",
    "final_inputs = numpy.dot(self.who, hidden_outputs)\n",
    "\n",
    "최종 출력 계층에서 나가는 신호를 계산\n",
    "final_outputs = self.activation_function(final_inputs)"
   ]
  },
  {
   "cell_type": "code",
   "execution_count": 18,
   "metadata": {},
   "outputs": [],
   "source": [
    "# 신경망 클래스의 정의\n",
    "class neuralNetwork:\n",
    "    \n",
    "    #  신경망 초기화하기\n",
    "    def __init__(self, inputnodes, hiddennodes, outputnodes, learningrate):\n",
    "        #입력, 은닉, 출력 계층의 노드 걔수 결정\n",
    "        self.inodes = inputnodes\n",
    "        self.hnodes = hiddennodes\n",
    "        self.onodes = outputnodes\n",
    "        \n",
    "        self.wih = numpy.random.normal(0.0, pow(self.hnodes, -0.5), (self.hnodes, self.inodes))\n",
    "        self.who = numpy.random.normal(0.0, pow(self.onodes, -0.5), (self.onodes, self.hnodes))\n",
    "    \n",
    "        \n",
    "\n",
    "        # 학습률\n",
    "        self.lr = learningrate\n",
    "        \n",
    "        # 활성화 함수는 시그모이드 함수를 이용\n",
    "        self.activation_function = lambda x: scipy.special.expit(x)\n",
    "        \n",
    "        pass\n",
    "    \n",
    "    # 신경망 학습시키기\n",
    "    def train():\n",
    "        pass\n",
    "    \n",
    "    #신경망에 질의하기\n",
    "    def query(self, inputs_list):\n",
    "        # 입력 리스트를 2차원 행렬로 변환\n",
    "        inputs = numpy.array(inputs_list, ndmin=2).T\n",
    "        \n",
    "        hidden_inputs = numpy.dot(self.wih, inputs)\n",
    "        hidden_outputs = self.activation_function(hidden_inputs)\n",
    "        final_inputs = numpy.dot(self.who, hidden_outputs)\n",
    "        final_outputs = self.activation_function(final_inputs)\n",
    "        \n",
    "        return final_outputs"
   ]
  },
  {
   "cell_type": "markdown",
   "metadata": {},
   "source": [
    "__init__()에서 학습률을 요구하기 때문에 학습률을 설정하지 않으면 이 코드는 에러를 발생시킨다.\n",
    "\n",
    "많은 숫자 데이터를 하나의 변수에 넣고 관리 할 때 리스트는 속도가 느리고 메모리를 많이 차지하는 단점이 있다. 배열(array)을 사용하면 적은 메모리로 데이터를 빠르게 처리할 수 있다. 배열은 리스트와 비슷하지만 다음과 같은 점에서 다르다.\n",
    "1. 모든 원소가 같은 자료형이어야 한다.\n",
    "2. 원소의 갯수를 바꿀 수 없다."
   ]
  },
  {
   "cell_type": "code",
   "execution_count": 21,
   "metadata": {},
   "outputs": [],
   "source": [
    "def train(self, inputs_list, targets_list):\n",
    "    \n",
    "    # 입력 리스트를 2차원의 행렬로 변환\n",
    "    inputs = numpy.array(inputs_list, ndmin=2).T\n",
    "    targets = numpy.array(targets_list, ndmin=2).T\n",
    "    \n",
    "    hidden_inputs = numpy.dot(self.wih, inputs)\n",
    "    hidden_outputs = self.activation_function(hidden_inputs)\n",
    "    \n",
    "    final_input = numpy.dot(self.who, hidden_outputs)\n",
    "    final_outputs = self.activation_function(final_inputs)\n",
    "    \n",
    "    pass"
   ]
  },
  {
   "cell_type": "code",
   "execution_count": null,
   "metadata": {},
   "outputs": [],
   "source": [
    " "
   ]
  }
 ],
 "metadata": {
  "kernelspec": {
   "display_name": "Python 3",
   "language": "python",
   "name": "python3"
  },
  "language_info": {
   "codemirror_mode": {
    "name": "ipython",
    "version": 3
   },
   "file_extension": ".py",
   "mimetype": "text/x-python",
   "name": "python",
   "nbconvert_exporter": "python",
   "pygments_lexer": "ipython3",
   "version": "3.7.4"
  }
 },
 "nbformat": 4,
 "nbformat_minor": 2
}
